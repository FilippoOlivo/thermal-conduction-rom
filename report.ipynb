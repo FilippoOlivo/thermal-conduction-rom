{
 "cells": [
  {
   "cell_type": "code",
   "execution_count": 1,
   "id": "33ae9600-658c-403e-8914-a26a19c13f35",
   "metadata": {},
   "outputs": [],
   "source": [
    "from pod import POD\n",
    "from matplotlib import pyplot as plt\n",
    "from matplotlib.tri import Triangulation\n",
    "import numpy as np\n",
    "import torch"
   ]
  },
  {
   "cell_type": "markdown",
   "id": "2837f8c7-b76e-4707-b744-60826cc9985a",
   "metadata": {},
   "source": [
    "# POD on thermal problem\n",
    "\n",
    "This notebook contains the report valid for the exam of Computational Mechanics with ROM. The goal of the project is to implement efficient Reduced order method strategies to approximate the solution of different steady state thermal problems. The dataset presented in this work have been generated using deal.II library v$9.6.2$.\n",
    "\n",
    "## Problem formulation\n",
    "\n",
    "The heat equation we used entire all the work is \n",
    "\n",
    "$$\n",
    "\\begin{cases}\n",
    "k \\nabla^2 u = 0 & \\text{in } \\Omega\n",
    "\n",
    "\\end{cases}\n",
    "$$\n",
    "\n",
    "We consider a $2$D rectangular domain $[0,3] \\times [0,6]$ we refine glabally the grid $7$ times, leading to $16000$ cells.\n",
    "\n"
   ]
  },
  {
   "cell_type": "code",
   "execution_count": 2,
   "id": "6d5b800c-abe2-4107-bd2c-112e8d30eff4",
   "metadata": {},
   "outputs": [],
   "source": [
    "def read_data(filename):\n",
    "    data = np.load(filename)\n",
    "    simulations = torch.tensor(data['solutions'], dtype=torch.float64)\n",
    "    parameters = torch.tensor(data['parameters'], dtype=torch.float64)\n",
    "    return simulations, parameters \n",
    "\n",
    "def split_data(simulations, parameters):\n",
    "    train_size = int(len(parameters) * .8)\n",
    "    p_train = parameters[:train_size]\n",
    "    u_train = simulations[:train_size]\n",
    "    \n",
    "    p_test = parameters[train_size:]\n",
    "    u_test = simulations[train_size:]\n",
    "    return p_train, u_train, p_test, u_test\n",
    "\n",
    "def compute_L2_error(u_true, u_pred):\n",
    "    return torch.linalg.norm(u_true - u_pred) / torch.linalg.norm(u_true)\n",
    "    \n",
    "def plot_singular_values(singular_values):\n",
    "    singular_values = singular_values / singular_values[0]\n",
    "    plt.semilogy(singular_values, marker='o')    \n",
    "\n",
    "def plot_comparison(u_pred, u_true, x, y, label):\n",
    "    tria = Triangulation(x, y)\n",
    "    fig, ax = plt.subplots(1, 3, figsize=(12, 5))\n",
    "\n",
    "    diff = torch.abs(u_pred - u_true)\n",
    "    \n",
    "    levels_main = torch.linspace(0, u_true.max().item(), steps=100)\n",
    "    levels_diff = torch.linspace(0, diff.max().item(), steps=100)\n",
    "    \n",
    "    # Plot predicted solution\n",
    "    ax[0].set_title(label)\n",
    "    tcf0 = ax[0].tricontourf(tria, u_pred, cmap='jet', levels=levels_main)\n",
    "    fig.colorbar(tcf0, ax=ax[0])\n",
    "    \n",
    "    # Plot true solution\n",
    "    ax[1].set_title(\"True\")\n",
    "    tcf1 = ax[1].tricontourf(tria, u_true, cmap='jet', levels=levels_main)\n",
    "    fig.colorbar(tcf1, ax=ax[1])\n",
    "    \n",
    "    # Plot difference between true and predicted solutions\n",
    "    ax[2].set_title(\"Difference\")\n",
    "    tcf2 = ax[2].tricontourf(tria, diff, cmap='jet', levels=levels_diff)\n",
    "    fig.colorbar(tcf2, ax=ax[2])"
   ]
  },
  {
   "cell_type": "markdown",
   "id": "7158b1c7-0687-4dd8-bb83-b95eef176cda",
   "metadata": {},
   "source": [
    "### Formulation 1"
   ]
  },
  {
   "cell_type": "markdown",
   "id": "f423ad2a-6ea2-4ca3-a1d4-d38c55164cb4",
   "metadata": {},
   "source": [
    "For this simplest scenario we decided to apply a simple POD stategy."
   ]
  },
  {
   "cell_type": "code",
   "execution_count": 3,
   "id": "16fe08df-2335-4c68-8199-73dd011145ff",
   "metadata": {},
   "outputs": [
    {
     "name": "stderr",
     "output_type": "stream",
     "text": [
      "/u/f/folivo/PINA/pina/model/block/pod_block.py: UserWarning: Considering a randomized algorithm to compute the POD basis\n"
     ]
    },
    {
     "data": {
      "image/png": "[encoded data removed]",
      "text/plain": [
       "<Figure size 640x480 with 1 Axes>"
      ]
     },
     "metadata": {},
     "output_type": "display_data"
    }
   ],
   "source": [
    "# Data loading\n",
    "simulations, parameters = read_data(\"data_simple.npz\")\n",
    "p_train, u_train, p_test, u_test = split_data(simulations, parameters)\n",
    "\n",
    "# Plotting singular values\n",
    "pod = POD(len(p_train))\n",
    "pod.fit(u_train)\n",
    "plot_singular_values(pod.singular_values)"
   ]
  },
  {
   "cell_type": "code",
   "execution_count": 5,
   "id": "ecbe19df-bf8a-4050-9212-59e110a03fb1",
   "metadata": {},
   "outputs": [],
   "source": [
    "# Perform POD\n",
    "pod = POD(1, fixed_stiffness=True) # POD with a singol mode\n",
    "pod.fit(u_train)\n",
    "u_pred = pod.predict(p_test.unsqueeze(-1))"
   ]
  },
  {
   "cell_type": "code",
   "execution_count": null,
   "id": "07ae36ba-1b14-4bc5-b00e-fe7e0e32ab54",
   "metadata": {},
   "outputs": [],
   "source": [
    "plot_comparison(u_pred[20], u_test[20], pod.x, pod.y, \"POD\")\n",
    "print(f\"POD L2 error: {compute_L2_error(u_test, u_pred):.4e}\")"
   ]
  },
  {
   "cell_type": "markdown",
   "id": "017f70cf-db4d-4801-a1b4-0d8b86ef1586",
   "metadata": {},
   "source": [
    "# Formulation 2"
   ]
  },
  {
   "cell_type": "code",
   "execution_count": null,
   "id": "fd2d20f3-4115-417b-baa2-21bba4f65bb1",
   "metadata": {},
   "outputs": [],
   "source": [
    "# Data loading\n",
    "simulations, parameters = read_data(\"data_vert.npz\")\n",
    "p_train, u_train, p_test, u_test = split_data(simulations, parameters)\n",
    "\n",
    "# Plotting singular values\n",
    "pod = POD(len(p_train))\n",
    "pod.fit(u_train)\n",
    "plot_singular_values(pod.singular_values)"
   ]
  }
 ],
 "metadata": {
  "kernelspec": {
   "display_name": "Python 3 (ipykernel)",
   "language": "python",
   "name": "python3"
  },
  "language_info": {
   "codemirror_mode": {
    "name": "ipython",
    "version": 3
   },
   "file_extension": ".py",
   "mimetype": "text/x-python",
   "name": "python",
   "nbconvert_exporter": "python",
   "pygments_lexer": "ipython3",
   "version": "3.12.11"
  }
 },
 "nbformat": 4,
 "nbformat_minor": 5
}
